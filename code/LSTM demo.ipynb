{
 "cells": [
  {
   "cell_type": "code",
   "execution_count": 2,
   "id": "e7cef3ed",
   "metadata": {},
   "outputs": [],
   "source": [
    "from keras.models import Sequential, Model\n",
    "from keras.layers import TimeDistributed,RepeatVector, LSTM, Dense\n",
    "from keras import regularizers\n",
    "import numpy as np\n",
    "import tables as tb"
   ]
  },
  {
   "cell_type": "code",
   "execution_count": 50,
   "id": "9637b58e",
   "metadata": {},
   "outputs": [
    {
     "name": "stdout",
     "output_type": "stream",
     "text": [
      "Model: \"sequential_7\"\n",
      "_________________________________________________________________\n",
      " Layer (type)                Output Shape              Param #   \n",
      "=================================================================\n",
      " lstm_12 (LSTM)              (None, 10)                6480      \n",
      "                                                                 \n",
      " repeat_vector_6 (RepeatVect  (None, 21, 10)           0         \n",
      " or)                                                             \n",
      "                                                                 \n",
      " lstm_13 (LSTM)              (None, 21, 10)            840       \n",
      "                                                                 \n",
      " time_distributed_5 (TimeDis  (None, 21, 151)          1661      \n",
      " tributed)                                                       \n",
      "                                                                 \n",
      "=================================================================\n",
      "Total params: 8,981\n",
      "Trainable params: 8,981\n",
      "Non-trainable params: 0\n",
      "_________________________________________________________________\n"
     ]
    }
   ],
   "source": [
    "# create the unsupervised learning model\n",
    "l2=0.01\n",
    "n_lstm_units=10\n",
    "dim=151\n",
    "n_back=21\n",
    "n_subs=20\n",
    "\n",
    "model = Sequential()\n",
    "model.add(LSTM(n_lstm_units,activation='relu',input_shape=(n_back,dim),kernel_regularizer=regularizers.L2(l2=l2), activity_regularizer=regularizers.L2(l2)))\n",
    "model.add(RepeatVector(n_back))\n",
    "model.add(LSTM(n_lstm_units,activation='relu',return_sequences=True,kernel_regularizer=regularizers.L2(l2=l2), activity_regularizer=regularizers.L2(l2)))\n",
    "model.add(TimeDistributed(Dense(dim)))\n",
    "model.compile(optimizer='adam', loss='mse')\n",
    "\n",
    "model.summary()"
   ]
  },
  {
   "cell_type": "code",
   "execution_count": 9,
   "id": "c76ca51b",
   "metadata": {},
   "outputs": [
    {
     "data": {
      "text/plain": [
       "(3, 20, 151, 621)"
      ]
     },
     "execution_count": 9,
     "metadata": {},
     "output_type": "execute_result"
    }
   ],
   "source": [
    "import scipy.io as sio\n",
    "filename='../data/curated_bold.mat'\n",
    "data=sio.loadmat(filename)\n",
    "data['roiEpochs'].shape"
   ]
  },
  {
   "cell_type": "code",
   "execution_count": 76,
   "id": "a565acec",
   "metadata": {},
   "outputs": [
    {
     "data": {
      "text/plain": [
       "0.0"
      ]
     },
     "execution_count": 76,
     "metadata": {},
     "output_type": "execute_result"
    }
   ],
   "source": [
    "bold_4d=data['roiEpochs']\n",
    "bad_subs=np.array([0,4,13])\n",
    "good_subs = np.setdiff1d(np.arange(n_subs),bad_subs)\n",
    "e_bold = np.squeeze(bold_4d[0,good_subs,:,:])\n",
    "np.mean(np.isnan(e_bold))\n",
    "e_bold[np.isnan(e_bold)]=0\n",
    "np.mean(np.isnan(e_bold))"
   ]
  },
  {
   "cell_type": "code",
   "execution_count": 77,
   "id": "2781edb1",
   "metadata": {},
   "outputs": [
    {
     "name": "stdout",
     "output_type": "stream",
     "text": [
      "600\n"
     ]
    }
   ],
   "source": [
    "n_wins = e_bold.shape[2]-n_back\n",
    "print(n_wins)"
   ]
  },
  {
   "cell_type": "code",
   "execution_count": 78,
   "id": "9413ab16",
   "metadata": {},
   "outputs": [],
   "source": [
    "tpl_bold = np.nan * np.ones(shape=(e_bold.shape[0],e_bold.shape[1],n_back,n_wins))\n",
    "for s in np.arange(e_bold.shape[0]):\n",
    "    for w in np.arange(n_wins):\n",
    "        tpl_bold[s,:,:,w]=np.squeeze(e_bold[s,:,np.arange(w,w+n_back)]).T"
   ]
  },
  {
   "cell_type": "code",
   "execution_count": 79,
   "id": "af55e0b0",
   "metadata": {},
   "outputs": [],
   "source": [
    "tpl_bold = np.swapaxes(tpl_bold,1,3)"
   ]
  },
  {
   "cell_type": "code",
   "execution_count": 80,
   "id": "fe0803cf",
   "metadata": {},
   "outputs": [],
   "source": [
    "tpl_bold=np.reshape(tpl_bold,(tpl_bold.shape[0]*tpl_bold.shape[1],tpl_bold.shape[2],tpl_bold.shape[3]))"
   ]
  },
  {
   "cell_type": "code",
   "execution_count": 81,
   "id": "851e0225",
   "metadata": {},
   "outputs": [
    {
     "data": {
      "text/plain": [
       "0.0"
      ]
     },
     "execution_count": 81,
     "metadata": {},
     "output_type": "execute_result"
    }
   ],
   "source": [
    "np.mean(np.isnan(tpl_bold))"
   ]
  },
  {
   "cell_type": "code",
   "execution_count": 82,
   "id": "9c63d436",
   "metadata": {},
   "outputs": [
    {
     "name": "stdout",
     "output_type": "stream",
     "text": [
      "Epoch 1/10\n",
      "319/319 [==============================] - 3s 9ms/step - loss: 0.0895\n",
      "Epoch 2/10\n",
      "319/319 [==============================] - 3s 9ms/step - loss: 0.0886\n",
      "Epoch 3/10\n",
      "319/319 [==============================] - 3s 9ms/step - loss: 0.0881\n",
      "Epoch 4/10\n",
      "319/319 [==============================] - 3s 9ms/step - loss: 0.0877\n",
      "Epoch 5/10\n",
      "319/319 [==============================] - 3s 9ms/step - loss: 0.0874\n",
      "Epoch 6/10\n",
      "319/319 [==============================] - 3s 9ms/step - loss: 0.0870\n",
      "Epoch 7/10\n",
      "319/319 [==============================] - 3s 9ms/step - loss: 0.0868\n",
      "Epoch 8/10\n",
      "319/319 [==============================] - 3s 9ms/step - loss: 0.0865\n",
      "Epoch 9/10\n",
      "319/319 [==============================] - 3s 9ms/step - loss: 0.0863\n",
      "Epoch 10/10\n",
      "319/319 [==============================] - 3s 9ms/step - loss: 0.0860\n"
     ]
    },
    {
     "data": {
      "text/plain": [
       "<keras.callbacks.History at 0x7fdcb9a75640>"
      ]
     },
     "execution_count": 82,
     "metadata": {},
     "output_type": "execute_result"
    }
   ],
   "source": [
    "model.fit(tpl_bold,tpl_bold, epochs=10, verbose=1)"
   ]
  },
  {
   "cell_type": "code",
   "execution_count": 83,
   "id": "e2cf2028",
   "metadata": {},
   "outputs": [],
   "source": [
    "encoder = Model(inputs=model.inputs, outputs=model.layers[0].output)"
   ]
  },
  {
   "cell_type": "code",
   "execution_count": 84,
   "id": "a1186263",
   "metadata": {},
   "outputs": [],
   "source": [
    "encoded_data=encoder.predict(tpl_bold)"
   ]
  },
  {
   "cell_type": "code",
   "execution_count": 85,
   "id": "9075cef4",
   "metadata": {},
   "outputs": [],
   "source": [
    "encoded_data = np.reshape(encoded_data,(17,600,encoded_data.shape[1]))"
   ]
  },
  {
   "cell_type": "code",
   "execution_count": 86,
   "id": "d33ff24e",
   "metadata": {},
   "outputs": [],
   "source": [
    "tmp = np.squeeze(np.mean(encoded_data,0))"
   ]
  },
  {
   "cell_type": "code",
   "execution_count": 97,
   "id": "2c22ce72",
   "metadata": {},
   "outputs": [
    {
     "data": {
      "image/png": "[encoded data removed]",
      "text/plain": [
       "<Figure size 432x288 with 1 Axes>"
      ]
     },
     "metadata": {
      "needs_background": "light"
     },
     "output_type": "display_data"
    }
   ],
   "source": [
    "import matplotlib.pyplot as plt\n",
    "plt.plot(tmp[:,6])\n",
    "plt.show()"
   ]
  },
  {
   "cell_type": "code",
   "execution_count": null,
   "id": "fc3397eb",
   "metadata": {},
   "outputs": [],
   "source": []
  }
 ],
 "metadata": {
  "kernelspec": {
   "display_name": "Python 3",
   "language": "python",
   "name": "python3"
  },
  "language_info": {
   "codemirror_mode": {
    "name": "ipython",
    "version": 3
   },
   "file_extension": ".py",
   "mimetype": "text/x-python",
   "name": "python",
   "nbconvert_exporter": "python",
   "pygments_lexer": "ipython3",
   "version": "3.8.8"
  },
  "varInspector": {
   "cols": {
    "lenName": 16,
    "lenType": 16,
    "lenVar": 40
   },
   "kernels_config": {
    "python": {
     "delete_cmd_postfix": "",
     "delete_cmd_prefix": "del ",
     "library": "var_list.py",
     "varRefreshCmd": "print(var_dic_list())"
    },
    "r": {
     "delete_cmd_postfix": ") ",
     "delete_cmd_prefix": "rm(",
     "library": "var_list.r",
     "varRefreshCmd": "cat(var_dic_list()) "
    }
   },
   "position": {
    "height": "485.851px",
    "left": "1620px",
    "right": "20px",
    "top": "120px",
    "width": "350px"
   },
   "types_to_exclude": [
    "module",
    "function",
    "builtin_function_or_method",
    "instance",
    "_Feature"
   ],
   "window_display": true
  }
 },
 "nbformat": 4,
 "nbformat_minor": 5
}
