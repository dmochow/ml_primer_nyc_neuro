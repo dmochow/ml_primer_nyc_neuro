{
 "cells": [
  {
   "cell_type": "markdown",
   "id": "914b5180",
   "metadata": {
    "slideshow": {
     "slide_type": "slide"
    }
   },
   "source": [
    "\n",
    "# <center>Primer on Machine Learning for Physiological Signals</center> \n",
    "  ###     <center>Jacek Dmochowski</center>\n",
    "  ###     <center>Department of Biomedical Engineering</center>\n",
    "  ###     <center>City College of New York</center>"
   ]
  },
  {
   "cell_type": "markdown",
   "id": "75738d40",
   "metadata": {
    "slideshow": {
     "slide_type": "slide"
    }
   },
   "source": [
    "## AI versus Machine Learning\n",
    "* Artificial Intelligence: teaching computers how to think and automate tasks performed by humans\n",
    "* Machine Learning: training computers to find rules for automating the task\n",
    "* Deep Learning: subset of ML that employs many levels of data representation\n",
    "<img src=\"./images/chollet.png\" width=\"1000\">"
   ]
  },
  {
   "cell_type": "markdown",
   "id": "59b2e689",
   "metadata": {
    "slideshow": {
     "slide_type": "slide"
    }
   },
   "source": [
    "## Supervised Learning\n",
    "* Given $x$, what is $y$?\n",
    "* $x$ is known as the _feature_ vector (or matrix)\n",
    "* $y$ is known as the _target_ or _label_\n",
    "\n"
   ]
  },
  {
   "cell_type": "markdown",
   "id": "f5ccbf05",
   "metadata": {
    "slideshow": {
     "slide_type": "slide"
    }
   },
   "source": [
    "## Training a model\n",
    "* Goal is to estimate $f$ in: \n",
    "<center> $y = f(x) + \\mathrm{error}$  </center>\n",
    "given some training data:\n",
    "<center> {$(x_1,y_1), (x_2,y_2), ... (x_N,y_N)$} </center>"
   ]
  },
  {
   "cell_type": "markdown",
   "id": "e9c6ed2f",
   "metadata": {
    "slideshow": {
     "slide_type": "slide"
    }
   },
   "source": [
    "## Training minimizes a _loss_ function\n",
    "* $f$ is chosen to minimize a loss on the training data:\n",
    "* Mean squared error loss:   $L = ( y- f(x) )^2 $\n",
    "  * Regression problem:   $y$ is continuous\n",
    "* Binary cross-entropy loss: $L = y \\log(p) + (1-y) \\log(1-p)$\n",
    "  * Binary classification problem: $y \\in \\{0,1\\}$\n",
    "  * Here $p$ denotes the model's estimate of the probability of the feature $x$ coming from class $y=1$"
   ]
  },
  {
   "cell_type": "markdown",
   "id": "680686b4",
   "metadata": {
    "slideshow": {
     "slide_type": "slide"
    }
   },
   "source": [
    "## Testing a model\n",
    "* Once $f$ has been fit, we can use it to make predictions on _new_ data\n",
    "* $ \\hat{y} = f (x_{\\mathrm{new}} )$\n",
    "  * $\\hat{y}$ is the model's estimate of the label (malignant or benign) for feature $x_{\\mathrm{new}}$"
   ]
  },
  {
   "cell_type": "markdown",
   "id": "ec807a4d",
   "metadata": {
    "slideshow": {
     "slide_type": "slide"
    }
   },
   "source": [
    "## Selecting a model family\n",
    "* The nature of $f$ defines the learning model\n",
    "* eg. logistic regression: $f$ is linear in the features $X$ \n",
    "* eg. deep neural nets: $f$ formed as a product of many subfunctions with nonlinearites"
   ]
  },
  {
   "cell_type": "markdown",
   "id": "55a8d999",
   "metadata": {
    "slideshow": {
     "slide_type": "slide"
    }
   },
   "source": [
    "## Overfitting\n",
    "* When the model has learned the structure of the _noise_\n",
    "![overfitting](./images/overfitting.png)\n"
   ]
  },
  {
   "cell_type": "markdown",
   "id": "88d70c6d",
   "metadata": {
    "slideshow": {
     "slide_type": "slide"
    }
   },
   "source": [
    "## Cross-validation\n",
    "* A widely used technique to prevent and diagnose overfitting\n",
    "* Also used to evaluate performance before going \"live\"\n",
    "![cv](./images/cv.png)\n"
   ]
  },
  {
   "cell_type": "markdown",
   "id": "82e8acf7",
   "metadata": {
    "slideshow": {
     "slide_type": "slide"
    }
   },
   "source": [
    "## Regularization\n",
    "* Adding prior information to help the model learn genuine structure\n",
    "* Most common type enforces either _smoothness_ or _sparsity_ of model coefficients\n",
    "* $\\mathrm{Loss} := \\mathrm{Loss} + \\mathrm{Penalty}$"
   ]
  },
  {
   "cell_type": "markdown",
   "id": "979928b7",
   "metadata": {
    "slideshow": {
     "slide_type": "slide"
    }
   },
   "source": [
    "## L1 and L2 Regularization\n",
    "* L2 penalties constrain the magnitude of the model weights\n",
    "* L1 penalties constrain the number of non-zero coefficients\n",
    "<img src=\"./images/l12.png\" width=\"750\">"
   ]
  },
  {
   "cell_type": "markdown",
   "id": "002d2a8a",
   "metadata": {
    "slideshow": {
     "slide_type": "slide"
    }
   },
   "source": [
    "## Unsupervised Learning\n",
    "* No labels, just features\n",
    "* From $x$, discover the _structure_ in the data\n",
    "* Examples include clustering, components analysis, feature selection\n",
    "<img src=\"./images/unsupervised.png\" width=\"750\">\n",
    "\n"
   ]
  },
  {
   "cell_type": "markdown",
   "id": "8c09cea1",
   "metadata": {
    "slideshow": {
     "slide_type": "slide"
    }
   },
   "source": [
    "## Physiological signals\n",
    "* Working with physiological data imposes constraints on statistical learning\n",
    "* Data is noisy \n",
    "* Data is expensive to collect\n",
    "* Data is expensive to label (malignant or benign?)\n",
    "<img src=\"./images/EEG_signal.jpeg\" width=\"1000\">\n",
    "\n"
   ]
  },
  {
   "cell_type": "markdown",
   "id": "1ba27d11",
   "metadata": {
    "slideshow": {
     "slide_type": "slide"
    }
   },
   "source": [
    "## Physiological data is noisy\n",
    "* Preprocessing the data is an artform\n",
    "* Details matter: ordering of the steps, parameters of the steps\n",
    "* Filtering and artifact rejection are critical\n",
    "* In the future, deep learning may allow for automated preprocesing (?)"
   ]
  },
  {
   "cell_type": "markdown",
   "id": "d6fce5a1",
   "metadata": {
    "slideshow": {
     "slide_type": "slide"
    }
   },
   "source": [
    "## Physiological data is expensive to collect\n",
    "* Complex models necessitate large training sets\n",
    "* The number of examples in many biomedical applications is limited\n",
    "* Shallow learning architectures may offer favorable generalization"
   ]
  },
  {
   "cell_type": "markdown",
   "id": "d3269909",
   "metadata": {
    "slideshow": {
     "slide_type": "slide"
    }
   },
   "source": [
    "## Physiological data is expensive to label\n",
    "* Obtaining many MRI scans may be feasible, but labeling them into ground-truth may not be\n",
    "* Unsupervised learning is well-suited to discovering the data's structure"
   ]
  },
  {
   "cell_type": "markdown",
   "id": "8fc1bfd8",
   "metadata": {
    "slideshow": {
     "slide_type": "slide"
    }
   },
   "source": [
    "## Model interpretability is important in biomedical applications\n",
    "* We would like to know what information is being used to make decisions\n",
    "* Linear model are easier to interpret\n",
    "* In deep learning, the representation is highly distributed"
   ]
  }
 ],
 "metadata": {
  "celltoolbar": "Slideshow",
  "kernelspec": {
   "display_name": "Python 3",
   "language": "python",
   "name": "python3"
  },
  "language_info": {
   "codemirror_mode": {
    "name": "ipython",
    "version": 3
   },
   "file_extension": ".py",
   "mimetype": "text/x-python",
   "name": "python",
   "nbconvert_exporter": "python",
   "pygments_lexer": "ipython3",
   "version": "3.8.8"
  },
  "varInspector": {
   "cols": {
    "lenName": 16,
    "lenType": 16,
    "lenVar": 40
   },
   "kernels_config": {
    "python": {
     "delete_cmd_postfix": "",
     "delete_cmd_prefix": "del ",
     "library": "var_list.py",
     "varRefreshCmd": "print(var_dic_list())"
    },
    "r": {
     "delete_cmd_postfix": ") ",
     "delete_cmd_prefix": "rm(",
     "library": "var_list.r",
     "varRefreshCmd": "cat(var_dic_list()) "
    }
   },
   "types_to_exclude": [
    "module",
    "function",
    "builtin_function_or_method",
    "instance",
    "_Feature"
   ],
   "window_display": false
  }
 },
 "nbformat": 4,
 "nbformat_minor": 5
}
