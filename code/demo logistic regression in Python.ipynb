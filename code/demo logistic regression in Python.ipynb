{
 "cells": [
  {
   "cell_type": "code",
   "execution_count": 46,
   "id": "036fbaa3",
   "metadata": {},
   "outputs": [],
   "source": [
    "import scipy.io as sio\n",
    "import numpy as np"
   ]
  },
  {
   "cell_type": "code",
   "execution_count": 48,
   "id": "9f95d661",
   "metadata": {},
   "outputs": [],
   "source": [
    "dataFilename='my_cancer_dataset.mat'"
   ]
  },
  {
   "cell_type": "code",
   "execution_count": 49,
   "id": "ff932b63",
   "metadata": {},
   "outputs": [],
   "source": [
    "data=sio.loadmat(dataFilename)"
   ]
  },
  {
   "cell_type": "code",
   "execution_count": 50,
   "id": "a6ef8352",
   "metadata": {},
   "outputs": [
    {
     "data": {
      "text/plain": [
       "{'__header__': b'MATLAB 5.0 MAT-file, Platform: MACI64, Created on: Wed Mar  2 09:53:22 2022',\n",
       " '__version__': '1.0',\n",
       " '__globals__': [],\n",
       " 'cancerInputs': array([[0.2, 0.2, 0.5, ..., 0.6, 0.5, 0.1],\n",
       "        [0.1, 0.1, 0.1, ..., 1. , 0.7, 0.1],\n",
       "        [0.1, 0.1, 0.1, ..., 1. , 1. , 0.1],\n",
       "        ...,\n",
       "        [0.2, 0.3, 0.2, ..., 0.7, 1. , 0.2],\n",
       "        [0.1, 0.1, 0.1, ..., 1. , 1. , 0.1],\n",
       "        [0.1, 0.1, 0.1, ..., 0.7, 0.1, 0.1]]),\n",
       " 'cancerTargets': array([[1, 1, 1, ..., 0, 0, 1],\n",
       "        [0, 0, 0, ..., 1, 1, 0]], dtype=uint8)}"
      ]
     },
     "execution_count": 50,
     "metadata": {},
     "output_type": "execute_result"
    }
   ],
   "source": [
    "data"
   ]
  },
  {
   "cell_type": "markdown",
   "id": "aa46ec3f",
   "metadata": {},
   "source": [
    "# This is a comment"
   ]
  },
  {
   "cell_type": "code",
   "execution_count": 69,
   "id": "14d6cf11",
   "metadata": {},
   "outputs": [
    {
     "name": "stdout",
     "output_type": "stream",
     "text": [
      "the shape of cancerInputs is (9, 699)\n",
      "the shape of cancerTargets is  (2, 699)\n"
     ]
    }
   ],
   "source": [
    "print(\"the shape of cancerInputs is \" + str(data['cancerInputs'].shape) )\n",
    "print(\"the shape of cancerTargets is \" , data['cancerTargets'].shape )"
   ]
  },
  {
   "cell_type": "code",
   "execution_count": 60,
   "id": "5ef87da0",
   "metadata": {},
   "outputs": [
    {
     "data": {
      "text/plain": [
       "array([[0.2, 0.2, 0.5, ..., 0.6, 0.5, 0.1],\n",
       "       [0.1, 0.1, 0.1, ..., 1. , 0.7, 0.1],\n",
       "       [0.1, 0.1, 0.1, ..., 1. , 1. , 0.1],\n",
       "       ...,\n",
       "       [0.2, 0.3, 0.2, ..., 0.7, 1. , 0.2],\n",
       "       [0.1, 0.1, 0.1, ..., 1. , 1. , 0.1],\n",
       "       [0.1, 0.1, 0.1, ..., 0.7, 0.1, 0.1]])"
      ]
     },
     "execution_count": 60,
     "metadata": {},
     "output_type": "execute_result"
    }
   ],
   "source": [
    "X=data['cancerInputs']\n",
    "X"
   ]
  },
  {
   "cell_type": "code",
   "execution_count": 7,
   "id": "27b970ba",
   "metadata": {},
   "outputs": [
    {
     "data": {
      "text/plain": [
       "(9, 699)"
      ]
     },
     "execution_count": 7,
     "metadata": {},
     "output_type": "execute_result"
    }
   ],
   "source": [
    "X.shape"
   ]
  },
  {
   "cell_type": "code",
   "execution_count": 61,
   "id": "47a048c7",
   "metadata": {},
   "outputs": [],
   "source": [
    "y=data['cancerTargets']"
   ]
  },
  {
   "cell_type": "code",
   "execution_count": 66,
   "id": "00cda32a",
   "metadata": {},
   "outputs": [
    {
     "data": {
      "text/plain": [
       "array([[1, 1, 1, 0, 1],\n",
       "       [0, 0, 0, 1, 0]], dtype=uint8)"
      ]
     },
     "execution_count": 66,
     "metadata": {},
     "output_type": "execute_result"
    }
   ],
   "source": [
    "y.shape\n",
    "y[:,0:5]"
   ]
  },
  {
   "cell_type": "code",
   "execution_count": 67,
   "id": "86401cbf",
   "metadata": {},
   "outputs": [],
   "source": [
    "from sklearn.linear_model import LogisticRegression"
   ]
  },
  {
   "cell_type": "code",
   "execution_count": 68,
   "id": "3fcce812",
   "metadata": {},
   "outputs": [],
   "source": [
    "model = LogisticRegression()"
   ]
  },
  {
   "cell_type": "markdown",
   "id": "19436055",
   "metadata": {},
   "source": [
    "We need to transpose X and y before fitting \"model\""
   ]
  },
  {
   "cell_type": "code",
   "execution_count": 70,
   "id": "26aa7ee9",
   "metadata": {},
   "outputs": [],
   "source": [
    "XX = np.transpose(X)\n",
    "yy = np.transpose(y)\n",
    "yy = yy[:,1]"
   ]
  },
  {
   "cell_type": "code",
   "execution_count": 73,
   "id": "6444ae63",
   "metadata": {},
   "outputs": [
    {
     "name": "stdout",
     "output_type": "stream",
     "text": [
      "0.3447782546494993\n"
     ]
    }
   ],
   "source": [
    "yy.shape\n",
    "yy\n",
    "print(np.mean(yy))"
   ]
  },
  {
   "cell_type": "code",
   "execution_count": 81,
   "id": "85e10ff2",
   "metadata": {},
   "outputs": [
    {
     "data": {
      "text/plain": [
       "array([[2.97214277, 1.66988923, 2.06616005, 1.36955229, 0.95933603,\n",
       "        3.09459596, 2.03103956, 1.4492378 , 1.21773191]])"
      ]
     },
     "execution_count": 81,
     "metadata": {},
     "output_type": "execute_result"
    }
   ],
   "source": [
    "model=LogisticRegression()\n",
    "model=model.fit(XX,yy)\n",
    "model.coef_"
   ]
  },
  {
   "cell_type": "code",
   "execution_count": 82,
   "id": "667e2333",
   "metadata": {},
   "outputs": [],
   "source": [
    "py_hat = model.predict_proba(XX)"
   ]
  },
  {
   "cell_type": "code",
   "execution_count": 83,
   "id": "cf3dfccf",
   "metadata": {},
   "outputs": [
    {
     "data": {
      "text/plain": [
       "array([[9.87993709e-01, 1.20062906e-02],\n",
       "       [9.85329561e-01, 1.46704390e-02],\n",
       "       [9.71212465e-01, 2.87875351e-02],\n",
       "       ...,\n",
       "       [4.15810993e-04, 9.99584189e-01],\n",
       "       [1.38931426e-03, 9.98610686e-01],\n",
       "       [9.91053090e-01, 8.94691003e-03]])"
      ]
     },
     "execution_count": 83,
     "metadata": {},
     "output_type": "execute_result"
    }
   ],
   "source": [
    "py_hat"
   ]
  },
  {
   "cell_type": "code",
   "execution_count": 85,
   "id": "cecc04a0",
   "metadata": {},
   "outputs": [
    {
     "data": {
      "text/plain": [
       "array([0, 0, 0, 1, 0, 0, 1, 1, 1, 0, 0, 1, 0, 0, 1, 0, 0, 0, 0, 0, 1, 1,\n",
       "       0, 0, 1, 0, 0, 0, 1, 1, 0, 0, 1, 1, 0, 0, 0, 1, 0, 0, 1, 0, 0, 0,\n",
       "       1, 0, 0, 1, 1, 0, 1, 0, 0, 0, 0, 0, 0, 0, 0, 1, 1, 1, 1, 1, 0, 0,\n",
       "       0, 0, 0, 1, 0, 1, 1, 0, 0, 0, 0, 0, 0, 0, 0, 0, 1, 1, 0, 1, 1, 1,\n",
       "       0, 0, 1, 0, 0, 0, 0, 0, 0, 1, 1, 1, 0, 0, 1, 0, 0, 0, 0, 1, 1, 1,\n",
       "       0, 0, 0, 0, 0, 1, 0, 0, 0, 0, 1, 0, 1, 0, 1, 1, 1, 0, 0, 1, 0, 0,\n",
       "       1, 1, 0, 0, 1, 1, 1, 0, 0, 0, 1, 0, 1, 0, 1, 0, 0, 0, 0, 0, 0, 1,\n",
       "       0, 0, 0, 1, 0, 0, 0, 0, 0, 0, 1, 1, 0, 0, 0, 0, 0, 1, 1, 1, 0, 1,\n",
       "       1, 0, 1, 0, 0, 0, 0, 0, 1, 0, 0, 0, 1, 1, 0, 0, 1, 0, 0, 0, 1, 0,\n",
       "       0, 0, 0, 0, 0, 0, 0, 0, 0, 0, 0, 0, 0, 1, 0, 1, 0, 0, 1, 0, 1, 0,\n",
       "       1, 0, 1, 0, 1, 0, 0, 1, 0, 0, 0, 0, 0, 1, 0, 1, 1, 0, 0, 1, 1, 0,\n",
       "       1, 0, 1, 0, 0, 0, 0, 0, 0, 1, 0, 0, 0, 0, 0, 1, 0, 1, 0, 0, 1, 0,\n",
       "       0, 1, 1, 1, 1, 1, 0, 0, 0, 0, 0, 1, 0, 1, 1, 0, 1, 1, 0, 0, 0, 0,\n",
       "       0, 1, 1, 0, 1, 0, 0, 1, 0, 1, 0, 0, 0, 1, 1, 0, 0, 0, 0, 1, 0, 0,\n",
       "       0, 0, 0, 0, 0, 1, 0, 0, 0, 1, 0, 1, 1, 0, 1, 1, 0, 0, 0, 0, 0, 0,\n",
       "       0, 0, 1, 1, 1, 1, 1, 0, 1, 1, 1, 0, 0, 0, 0, 1, 0, 0, 0, 0, 0, 1,\n",
       "       0, 0, 1, 0, 0, 0, 0, 1, 0, 0, 1, 0, 0, 1, 0, 1, 0, 1, 0, 0, 1, 0,\n",
       "       0, 0, 1, 0, 0, 0, 0, 1, 0, 1, 0, 1, 1, 0, 1, 0, 1, 1, 0, 0, 1, 1,\n",
       "       0, 1, 1, 0, 1, 1, 0, 0, 0, 0, 0, 0, 1, 0, 0, 0, 0, 1, 0, 1, 0, 1,\n",
       "       1, 0, 0, 0, 0, 0, 1, 0, 0, 0, 0, 0, 1, 0, 0, 0, 0, 0, 0, 0, 1, 0,\n",
       "       0, 0, 0, 1, 0, 0, 0, 0, 1, 0, 1, 0, 0, 0, 1, 0, 0, 0, 0, 0, 0, 0,\n",
       "       0, 1, 0, 1, 1, 0, 0, 0, 0, 0, 0, 0, 0, 0, 1, 0, 0, 1, 0, 0, 1, 0,\n",
       "       1, 0, 0, 0, 0, 1, 0, 0, 1, 0, 0, 0, 0, 0, 1, 1, 1, 1, 1, 1, 0, 0,\n",
       "       0, 0, 0, 0, 1, 0, 1, 0, 0, 1, 0, 0, 0, 0, 1, 0, 1, 0, 0, 0, 0, 0,\n",
       "       0, 1, 0, 0, 1, 0, 0, 0, 0, 0, 0, 0, 1, 0, 0, 0, 1, 0, 1, 1, 0, 1,\n",
       "       1, 0, 1, 1, 1, 1, 0, 0, 0, 1, 0, 0, 1, 1, 0, 1, 0, 0, 1, 0, 1, 1,\n",
       "       1, 0, 1, 0, 0, 0, 1, 0, 0, 0, 0, 1, 0, 0, 0, 0, 0, 1, 0, 0, 0, 0,\n",
       "       0, 1, 0, 0, 0, 0, 0, 0, 1, 1, 1, 0, 0, 0, 1, 0, 1, 0, 0, 0, 0, 0,\n",
       "       1, 0, 0, 0, 0, 1, 1, 0, 0, 0, 0, 0, 1, 0, 0, 0, 1, 0, 0, 0, 0, 0,\n",
       "       0, 1, 0, 0, 1, 0, 1, 1, 1, 1, 1, 1, 0, 1, 0, 0, 0, 0, 1, 0, 0, 1,\n",
       "       0, 0, 0, 1, 1, 0, 0, 0, 1, 1, 0, 1, 0, 0, 1, 1, 1, 0, 0, 0, 1, 0,\n",
       "       0, 0, 0, 0, 1, 0, 1, 0, 1, 0, 0, 0, 0, 1, 1, 1, 0], dtype=uint8)"
      ]
     },
     "execution_count": 85,
     "metadata": {},
     "output_type": "execute_result"
    }
   ],
   "source": [
    "yy_hat = model.predict(XX)\n",
    "yy_hat"
   ]
  },
  {
   "cell_type": "code",
   "execution_count": 86,
   "id": "2c85a619",
   "metadata": {},
   "outputs": [
    {
     "data": {
      "text/plain": [
       "0.9656652360515021"
      ]
     },
     "execution_count": 86,
     "metadata": {},
     "output_type": "execute_result"
    }
   ],
   "source": [
    "np.mean(yy_hat == yy)"
   ]
  },
  {
   "cell_type": "code",
   "execution_count": 87,
   "id": "28ecf477",
   "metadata": {},
   "outputs": [],
   "source": [
    "weights = model.coef_"
   ]
  },
  {
   "cell_type": "code",
   "execution_count": 36,
   "id": "83b5c3f4",
   "metadata": {},
   "outputs": [
    {
     "data": {
      "text/plain": [
       "array([[2.97214277, 1.66988923, 2.06616005, 1.36955229, 0.95933603,\n",
       "        3.09459596, 2.03103956, 1.4492378 , 1.21773191]])"
      ]
     },
     "execution_count": 36,
     "metadata": {},
     "output_type": "execute_result"
    }
   ],
   "source": [
    "weights"
   ]
  },
  {
   "cell_type": "code",
   "execution_count": 88,
   "id": "b24b490b",
   "metadata": {},
   "outputs": [],
   "source": [
    "from matplotlib import pyplot as plt"
   ]
  },
  {
   "cell_type": "code",
   "execution_count": 89,
   "id": "29cd9283",
   "metadata": {},
   "outputs": [
    {
     "data": {
      "text/plain": [
       "<StemContainer object of 3 artists>"
      ]
     },
     "execution_count": 89,
     "metadata": {},
     "output_type": "execute_result"
    },
    {
     "data": {
      "image/png": "[encoded data removed]",
      "text/plain": [
       "<Figure size 432x288 with 1 Axes>"
      ]
     },
     "metadata": {
      "needs_background": "light"
     },
     "output_type": "display_data"
    }
   ],
   "source": [
    "plt.stem(weights[0,:])"
   ]
  },
  {
   "cell_type": "code",
   "execution_count": 43,
   "id": "a33c9cbd",
   "metadata": {},
   "outputs": [
    {
     "data": {
      "text/plain": [
       "(1, 9)"
      ]
     },
     "execution_count": 43,
     "metadata": {},
     "output_type": "execute_result"
    }
   ],
   "source": [
    "weights.shape"
   ]
  },
  {
   "cell_type": "code",
   "execution_count": null,
   "id": "7150fdea",
   "metadata": {},
   "outputs": [],
   "source": []
  }
 ],
 "metadata": {
  "kernelspec": {
   "display_name": "Python 3",
   "language": "python",
   "name": "python3"
  },
  "language_info": {
   "codemirror_mode": {
    "name": "ipython",
    "version": 3
   },
   "file_extension": ".py",
   "mimetype": "text/x-python",
   "name": "python",
   "nbconvert_exporter": "python",
   "pygments_lexer": "ipython3",
   "version": "3.8.8"
  },
  "varInspector": {
   "cols": {
    "lenName": 16,
    "lenType": 16,
    "lenVar": 40
   },
   "kernels_config": {
    "python": {
     "delete_cmd_postfix": "",
     "delete_cmd_prefix": "del ",
     "library": "var_list.py",
     "varRefreshCmd": "print(var_dic_list())"
    },
    "r": {
     "delete_cmd_postfix": ") ",
     "delete_cmd_prefix": "rm(",
     "library": "var_list.r",
     "varRefreshCmd": "cat(var_dic_list()) "
    }
   },
   "types_to_exclude": [
    "module",
    "function",
    "builtin_function_or_method",
    "instance",
    "_Feature"
   ],
   "window_display": false
  }
 },
 "nbformat": 4,
 "nbformat_minor": 5
}
